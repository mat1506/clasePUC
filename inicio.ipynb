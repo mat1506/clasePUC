{
 "cells": [
  {
   "cell_type": "code",
   "execution_count": null,
   "id": "8caba57e-e96d-466f-a557-b60952d38b92",
   "metadata": {},
   "outputs": [],
   "source": [
    "# ¡Bienvenid@s a la clase!\n",
    "# Este notebook es una introducción al entorno de trabajo con Python y R.\n",
    "\n",
    "# 📦 Carga de librerías de Python\n",
    "import numpy as np\n",
    "import pandas as pd\n",
    "import matplotlib.pyplot as plt\n",
    "import seaborn as sns\n",
    "\n",
    "# 💡 Un ejemplo simple de gráfico\n",
    "x = np.linspace(0, 10, 100)\n",
    "y = np.sin(x)\n",
    "\n",
    "plt.plot(x, y)\n",
    "plt.title(\"Ejemplo de gráfico con Matplotlib\")\n",
    "plt.xlabel(\"x\")\n",
    "plt.ylabel(\"sin(x)\")\n",
    "plt.show()\n",
    "    "
   ]
  }
 ],
 "metadata": {
  "kernelspec": {
   "display_name": "Python 3 (ipykernel)",
   "language": "python",
   "name": "python3"
  },
  "language_info": {
   "codemirror_mode": {
    "name": "ipython",
    "version": 3
   },
   "file_extension": ".py",
   "mimetype": "text/x-python",
   "name": "python",
   "nbconvert_exporter": "python",
   "pygments_lexer": "ipython3",
   "version": "3.11.10"
  }
 },
 "nbformat": 4,
 "nbformat_minor": 5
}
